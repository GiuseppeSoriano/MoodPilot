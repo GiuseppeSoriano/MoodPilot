{
 "cells": [
  {
   "cell_type": "code",
   "execution_count": null,
   "metadata": {},
   "outputs": [],
   "source": [
    "# https://github.com/phamquiluan/ResidualMaskingNetwork\n",
    "from rmn import RMN\n",
    "m = RMN()\n",
    "m.video_demo()"
   ]
  }
 ],
 "metadata": {
  "language_info": {
   "name": "python"
  }
 },
 "nbformat": 4,
 "nbformat_minor": 2
}
