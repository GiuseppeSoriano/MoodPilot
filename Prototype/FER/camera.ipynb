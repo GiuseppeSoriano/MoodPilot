{
 "cells": [
  {
   "cell_type": "markdown",
   "metadata": {},
   "source": [
    "The following code is used to check if the camera is correctly identified by OpenCV."
   ]
  },
  {
   "cell_type": "code",
   "execution_count": 4,
   "metadata": {},
   "outputs": [],
   "source": [
    "import cv2\n",
    "\n",
    "cap = cv2.VideoCapture(0)\n",
    "while True:\n",
    "    ret, frame = cap.read()\n",
    "    if not ret:\n",
    "        break\n",
    "    cv2.imshow(\"Camera\", frame)\n",
    "\n",
    "    key = cv2.waitKey(1)\n",
    "    if key == ord('q') or cv2.getWindowProperty(\"Camera\", cv2.WND_PROP_VISIBLE) < 1:\n",
    "        break\n",
    "    \n",
    "cap.release()\n",
    "cv2.destroyAllWindows()"
   ]
  },
  {
   "cell_type": "markdown",
   "metadata": {},
   "source": [
    "The previous code does not work on the Raspberry Pi 3B+. Instead, the following code uses both `Picamera2` and `OpenCV` to check if the camera is correctly identified.\n",
    "\n",
    "The `Picamera2` library provides the image capture functionality, and you can use `OpenCV` to process and display the image. `OpenCV` is excellent for image manipulation tasks, such as resizing, filtering, and displaying images."
   ]
  },
  {
   "cell_type": "code",
   "execution_count": null,
   "metadata": {},
   "outputs": [],
   "source": [
    "from picamera2 import Picamera2\n",
    "import cv2\n",
    "\n",
    "def camera_preview():\n",
    "    # Initialize the camera\n",
    "    picam2 = Picamera2()\n",
    "    picam2.configure(picam2.create_still_configuration())\n",
    "\n",
    "    # Start the camera preview\n",
    "    picam2.start()\n",
    "\n",
    "    while True:\n",
    "        # Capture a frame from the camera\n",
    "        frame = picam2.capture_array()\n",
    "\n",
    "        # Resize the frame using OpenCV (to 640x480, for example)\n",
    "        frame_resized = cv2.resize(frame, (640, 480))\n",
    "\n",
    "        # Display the resized frame using OpenCV\n",
    "        cv2.imshow(\"Camera Preview\", frame_resized)\n",
    "\n",
    "        # Break the loop if 'q' is pressed\n",
    "        if cv2.waitKey(1) & 0xFF == ord('q'):\n",
    "            print(\"Closing camera preview.\")\n",
    "            break\n",
    "\n",
    "    # Release resources\n",
    "    picam2.stop()\n",
    "    cv2.destroyAllWindows()\n",
    "\n",
    "if __name__ == \"__main__\":\n",
    "    camera_preview()\n"
   ]
  }
 ],
 "metadata": {
  "kernelspec": {
   "display_name": "IA_Project",
   "language": "python",
   "name": "python3"
  },
  "language_info": {
   "codemirror_mode": {
    "name": "ipython",
    "version": 3
   },
   "file_extension": ".py",
   "mimetype": "text/x-python",
   "name": "python",
   "nbconvert_exporter": "python",
   "pygments_lexer": "ipython3",
   "version": "3.12.8"
  }
 },
 "nbformat": 4,
 "nbformat_minor": 2
}
